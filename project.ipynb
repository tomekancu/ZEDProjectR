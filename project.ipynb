{
 "cells": [
  {
   "cell_type": "markdown",
   "source": [
    "# Projekt Python\n",
    "Tomasz Ancukiewicz 127219, Mikołaj Leśny 127218\n",
    "\n",
    "18.11.2019\n",
    "\n",
    "## Init libs"
   ],
   "metadata": {
    "collapsed": false
   }
  },
  {
   "cell_type": "code",
   "execution_count": 1,
   "outputs": [],
   "source": [
    "import pandas as pd\n",
    "from scipy.io import arff\n",
    "from sklearn.metrics import classification_report, confusion_matrix, accuracy_score\n",
    "from sklearn.model_selection import train_test_split\n",
    "from sklearn.preprocessing import LabelEncoder\n",
    "from sklearn.tree import DecisionTreeClassifier\n",
    "import numpy as np"
   ],
   "metadata": {
    "collapsed": false,
    "pycharm": {
     "name": "#%%\n",
     "is_executing": false
    }
   }
  },
  {
   "cell_type": "markdown",
   "source": [
    "## Load data"
   ],
   "metadata": {
    "collapsed": false,
    "pycharm": {
     "name": "#%% md\n"
    }
   }
  },
  {
   "cell_type": "code",
   "execution_count": 2,
   "outputs": [],
   "source": [
    "SEED = 42\n",
    "\n",
    "data, meta = arff.loadarff(\"data/breast-cancer.arff\")\n",
    "df = pd.DataFrame(data)\n",
    "\n",
    "y = df.pop('Class').replace([b\"'no-recurrence-events'\", b\"'recurrence-events'\"],\n",
    "                            ['no-recurrence-events', 'recurrence-events']).astype('str')\n",
    "X = df\n",
    "X = X.apply(lambda x: LabelEncoder().fit_transform(x))\n"
   ],
   "metadata": {
    "collapsed": false,
    "pycharm": {
     "name": "#%%\n",
     "is_executing": false
    }
   }
  },
  {
   "cell_type": "markdown",
   "source": [
    "## Make test and train sets"
   ],
   "metadata": {
    "collapsed": false
   }
  },
  {
   "cell_type": "code",
   "execution_count": 3,
   "outputs": [],
   "source": [
    "X_train, X_test, y_train, y_test = train_test_split(X, y, test_size=0.3, random_state=SEED)"
   ],
   "metadata": {
    "collapsed": false,
    "pycharm": {
     "name": "#%%\n",
     "is_executing": false
    }
   }
  },
  {
   "cell_type": "markdown",
   "source": [
    "## Classification"
   ],
   "metadata": {
    "collapsed": false
   }
  },
  {
   "cell_type": "code",
   "execution_count": 4,
   "outputs": [
    {
     "name": "stdout",
     "text": [
      "confusion matrix\n",
      "(21, 31)\n",
      "(3, 31)\n",
      "accuracy: 0.6046511627906976\n",
      "recal[recurrence-events]: 0.875\n"
     ],
     "output_type": "stream"
    }
   ],
   "source": [
    "model = DecisionTreeClassifier(\n",
    "    criterion='entropy',\n",
    "    max_depth=7,\n",
    "    min_samples_leaf=7,\n",
    "    random_state=SEED,\n",
    "    class_weight={\"no-recurrence-events\": 1.0, \"recurrence-events\": 5.0}\n",
    ")\n",
    "\n",
    "model.fit(X_train, y_train)\n",
    "y_pred = model.predict(X_test)\n",
    "\n",
    "tn, fp, fn, tp = confusion_matrix(y_test, y_pred).ravel()\n",
    "print(f'confusion matrix\\n{tp, fp}\\n{fn, tn}')\n",
    "print(f'accuracy: {accuracy_score(y_test, y_pred)}')\n",
    "recal_recorrence_events = classification_report(y_test, y_pred, output_dict=True)[\"recurrence-events\"][\"recall\"]\n",
    "print(f'recal[recurrence-events]: {recal_recorrence_events}')\n"
   ],
   "metadata": {
    "collapsed": false,
    "pycharm": {
     "name": "#%%\n",
     "is_executing": false
    }
   }
  }
 ],
 "metadata": {
  "kernelspec": {
   "name": "python3",
   "language": "python",
   "display_name": "Python 3"
  },
  "language_info": {
   "codemirror_mode": {
    "name": "ipython",
    "version": 2
   },
   "file_extension": ".py",
   "mimetype": "text/x-python",
   "name": "python",
   "nbconvert_exporter": "python",
   "pygments_lexer": "ipython2",
   "version": "2.7.14"
  },
  "pycharm": {
   "stem_cell": {
    "cell_type": "raw",
    "source": [],
    "metadata": {
     "collapsed": false
    }
   }
  }
 },
 "nbformat": 4,
 "nbformat_minor": 2
}