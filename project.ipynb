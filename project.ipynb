{
 "cells": [
  {
   "cell_type": "markdown",
   "metadata": {},
   "source": [
    "# Projekt Python\n",
    "Tomasz Ancukiewicz 127219, Mikołaj Leśny 127218\n",
    "\n",
    "## Init libs"
   ]
  },
  {
   "cell_type": "code",
   "execution_count": 1,
   "metadata": {
    "pycharm": {
     "is_executing": false,
     "name": "#%%\n"
    }
   },
   "outputs": [],
   "source": [
    "import pandas as pd\n",
    "from scipy.io import arff\n",
    "from sklearn.metrics import classification_report, confusion_matrix, accuracy_score, roc_auc_score\n",
    "from sklearn.model_selection import train_test_split\n",
    "from sklearn.preprocessing import LabelEncoder\n",
    "from sklearn.tree import DecisionTreeClassifier\n",
    "from imblearn.under_sampling import RandomUnderSampler\n",
    "from sklearn.model_selection import GridSearchCV\n",
    "import numpy as np\n",
    "from collections import Counter"
   ]
  },
  {
   "cell_type": "markdown",
   "metadata": {},
   "source": [
    "## Load data"
   ]
  },
  {
   "cell_type": "code",
   "execution_count": 2,
   "metadata": {
    "pycharm": {
     "is_executing": false,
     "name": "#%%\n"
    }
   },
   "outputs": [],
   "source": [
    "SEED = 42\n",
    "\n",
    "# data, meta = arff.loadarff(\"data/breast-cancer.arff\")\n",
    "# df = pd.DataFrame(data)\n",
    "df = pd.read_csv(\"data/breast-cancer.data\", sep=',', \n",
    "                 names=['Class', 'age', 'menopause', 'tumor-size', \n",
    "                        'inv-nodes', 'node-caps', 'deg-malig', \n",
    "                        'breast', 'breast-quad', 'irradiat'])\n",
    "# df = df.astype('str')\n",
    "\n",
    "df[[\"age-begin\", \"age-end\"]] = df.pop('age').astype('str').str.split(\"-\", n=1, expand=True)\n",
    "df[[\"tumor-size-begin\", \"tumor-size-end\"]] = df.pop('tumor-size').astype('str').str.split(\"-\", n=1, expand=True)\n",
    "df[[\"inv-nodes-begin\", \"inv-nodes-end\"]] = df.pop('inv-nodes').astype('str').str.split(\"-\", n=1, expand=True)\n",
    "\n",
    "df[[\"age-begin\", \"age-end\", \"tumor-size-begin\", \n",
    "    \"tumor-size-end\", \"inv-nodes-begin\", \"inv-nodes-end\"]] = \\\n",
    "    df[[\"age-begin\", \"age-end\", \"tumor-size-begin\", \n",
    "        \"tumor-size-end\", \"inv-nodes-begin\", \"inv-nodes-end\"]].astype(int)\n",
    "\n",
    "y = df.pop('Class')\n",
    "X = df\n",
    "X = X.apply(lambda x: LabelEncoder().fit_transform(x))"
   ]
  },
  {
   "cell_type": "markdown",
   "metadata": {},
   "source": [
    "## Prepared data"
   ]
  },
  {
   "cell_type": "code",
   "execution_count": 3,
   "metadata": {
    "pycharm": {
     "is_executing": false,
     "name": "#%%\n"
    },
    "scrolled": true
   },
   "outputs": [
    {
     "data": {
      "text/html": [
       "<div>\n",
       "<style scoped>\n",
       "    .dataframe tbody tr th:only-of-type {\n",
       "        vertical-align: middle;\n",
       "    }\n",
       "\n",
       "    .dataframe tbody tr th {\n",
       "        vertical-align: top;\n",
       "    }\n",
       "\n",
       "    .dataframe thead th {\n",
       "        text-align: right;\n",
       "    }\n",
       "</style>\n",
       "<table border=\"1\" class=\"dataframe\">\n",
       "  <thead>\n",
       "    <tr style=\"text-align: right;\">\n",
       "      <th></th>\n",
       "      <th>menopause</th>\n",
       "      <th>node-caps</th>\n",
       "      <th>deg-malig</th>\n",
       "      <th>breast</th>\n",
       "      <th>breast-quad</th>\n",
       "      <th>irradiat</th>\n",
       "      <th>age-begin</th>\n",
       "      <th>age-end</th>\n",
       "      <th>tumor-size-begin</th>\n",
       "      <th>tumor-size-end</th>\n",
       "      <th>inv-nodes-begin</th>\n",
       "      <th>inv-nodes-end</th>\n",
       "    </tr>\n",
       "  </thead>\n",
       "  <tbody>\n",
       "    <tr>\n",
       "      <th>0</th>\n",
       "      <td>premeno</td>\n",
       "      <td>no</td>\n",
       "      <td>3</td>\n",
       "      <td>left</td>\n",
       "      <td>left_low</td>\n",
       "      <td>no</td>\n",
       "      <td>30</td>\n",
       "      <td>39</td>\n",
       "      <td>30</td>\n",
       "      <td>34</td>\n",
       "      <td>0</td>\n",
       "      <td>2</td>\n",
       "    </tr>\n",
       "    <tr>\n",
       "      <th>1</th>\n",
       "      <td>premeno</td>\n",
       "      <td>no</td>\n",
       "      <td>2</td>\n",
       "      <td>right</td>\n",
       "      <td>right_up</td>\n",
       "      <td>no</td>\n",
       "      <td>40</td>\n",
       "      <td>49</td>\n",
       "      <td>20</td>\n",
       "      <td>24</td>\n",
       "      <td>0</td>\n",
       "      <td>2</td>\n",
       "    </tr>\n",
       "    <tr>\n",
       "      <th>2</th>\n",
       "      <td>premeno</td>\n",
       "      <td>no</td>\n",
       "      <td>2</td>\n",
       "      <td>left</td>\n",
       "      <td>left_low</td>\n",
       "      <td>no</td>\n",
       "      <td>40</td>\n",
       "      <td>49</td>\n",
       "      <td>20</td>\n",
       "      <td>24</td>\n",
       "      <td>0</td>\n",
       "      <td>2</td>\n",
       "    </tr>\n",
       "    <tr>\n",
       "      <th>3</th>\n",
       "      <td>ge40</td>\n",
       "      <td>no</td>\n",
       "      <td>2</td>\n",
       "      <td>right</td>\n",
       "      <td>left_up</td>\n",
       "      <td>no</td>\n",
       "      <td>60</td>\n",
       "      <td>69</td>\n",
       "      <td>15</td>\n",
       "      <td>19</td>\n",
       "      <td>0</td>\n",
       "      <td>2</td>\n",
       "    </tr>\n",
       "    <tr>\n",
       "      <th>4</th>\n",
       "      <td>premeno</td>\n",
       "      <td>no</td>\n",
       "      <td>2</td>\n",
       "      <td>right</td>\n",
       "      <td>right_low</td>\n",
       "      <td>no</td>\n",
       "      <td>40</td>\n",
       "      <td>49</td>\n",
       "      <td>0</td>\n",
       "      <td>4</td>\n",
       "      <td>0</td>\n",
       "      <td>2</td>\n",
       "    </tr>\n",
       "  </tbody>\n",
       "</table>\n",
       "</div>"
      ],
      "text/plain": [
       "  menopause node-caps  deg-malig breast breast-quad irradiat  age-begin  \\\n",
       "0   premeno        no          3   left    left_low       no         30   \n",
       "1   premeno        no          2  right    right_up       no         40   \n",
       "2   premeno        no          2   left    left_low       no         40   \n",
       "3      ge40        no          2  right     left_up       no         60   \n",
       "4   premeno        no          2  right   right_low       no         40   \n",
       "\n",
       "   age-end  tumor-size-begin  tumor-size-end  inv-nodes-begin  inv-nodes-end  \n",
       "0       39                30              34                0              2  \n",
       "1       49                20              24                0              2  \n",
       "2       49                20              24                0              2  \n",
       "3       69                15              19                0              2  \n",
       "4       49                 0               4                0              2  "
      ]
     },
     "execution_count": 3,
     "metadata": {},
     "output_type": "execute_result"
    }
   ],
   "source": [
    "df.head()"
   ]
  },
  {
   "cell_type": "code",
   "execution_count": 4,
   "metadata": {},
   "outputs": [
    {
     "data": {
      "text/plain": [
       "no-recurrence-events    201\n",
       "recurrence-events        85\n",
       "Name: Class, dtype: int64"
      ]
     },
     "execution_count": 4,
     "metadata": {},
     "output_type": "execute_result"
    }
   ],
   "source": [
    "y.value_counts()"
   ]
  },
  {
   "cell_type": "markdown",
   "metadata": {},
   "source": [
    "## Make test and train sets"
   ]
  },
  {
   "cell_type": "code",
   "execution_count": 5,
   "metadata": {
    "pycharm": {
     "is_executing": false,
     "name": "#%%\n"
    }
   },
   "outputs": [
    {
     "name": "stdout",
     "output_type": "stream",
     "text": [
      "[('no-recurrence-events', 85), ('recurrence-events', 85)]\n"
     ]
    }
   ],
   "source": [
    "rus = RandomUnderSampler(random_state=SEED)\n",
    "X_resampled, y_resampled = rus.fit_resample(X, y)\n",
    "print(sorted(Counter(y_resampled).items()))"
   ]
  },
  {
   "cell_type": "code",
   "execution_count": 6,
   "metadata": {},
   "outputs": [],
   "source": [
    "X_train, X_test, y_train, y_test = train_test_split(X_resampled, y_resampled, test_size=0.3, random_state=SEED)"
   ]
  },
  {
   "cell_type": "markdown",
   "metadata": {},
   "source": [
    "## Classification"
   ]
  },
  {
   "cell_type": "code",
   "execution_count": 7,
   "metadata": {
    "pycharm": {
     "is_executing": false,
     "name": "#%%\n"
    }
   },
   "outputs": [],
   "source": [
    "# model = DecisionTreeClassifier(\n",
    "#     criterion='entropy',\n",
    "#     max_depth=7,\n",
    "#     min_samples_leaf=7,\n",
    "#     random_state=SEED,\n",
    "#     class_weight={\"no-recurrence-events\": 1.0, \"recurrence-events\": 5.0}\n",
    "# )\n",
    "\n",
    "# model.fit(X_train, y_train)\n",
    "# y_pred = model.predict(X_test)\n",
    "\n",
    "# tn, fp, fn, tp = confusion_matrix(y_test, y_pred).ravel()\n",
    "# print(f'confusion matrix\\n{tp, fp}\\n{fn, tn}')\n",
    "# print(f'accuracy: {accuracy_score(y_test, y_pred)}')\n",
    "# recal_recorrence_events = classification_report(y_test, y_pred, output_dict=True)[\"recurrence-events\"][\"recall\"]\n",
    "# print(f'recall[recurrence-events]: {recal_recorrence_events}')"
   ]
  },
  {
   "cell_type": "code",
   "execution_count": 8,
   "metadata": {},
   "outputs": [
    {
     "name": "stdout",
     "output_type": "stream",
     "text": [
      "DecisionTree: Area under the ROC curve = 0.67\n",
      "confusion matrix\n",
      "(21, 15)\n",
      "(4, 11)\n",
      "accuracy: 0.6274509803921569\n",
      "recall[recurrence-events]: 0.84\n"
     ]
    }
   ],
   "source": [
    "param_grid = {'criterion':['gini', 'entropy'],\n",
    "              'max_depth': np.arange(5, 12),\n",
    "              'min_samples_leaf': np.arange(5, 12),\n",
    "              'class_weight':[{\"recurrence-events\": w} for w in [2, 4, 6, 10]]}\n",
    "\n",
    "tree = GridSearchCV(DecisionTreeClassifier(), param_grid, scoring='roc_auc')\n",
    "\n",
    "tree.fit(X_train, y_train)\n",
    "y_pred_proba = tree.predict_proba(X_test)[:, 1]\n",
    "y_pred = tree.best_estimator_.predict(X_test)\n",
    "tree_performance = roc_auc_score(y_test, y_pred_proba)\n",
    "\n",
    "print('DecisionTree: Area under the ROC curve = {}'.format(tree_performance))\n",
    "tn, fp, fn, tp = confusion_matrix(y_test, y_pred).ravel()\n",
    "print(f'confusion matrix\\n{tp, fp}\\n{fn, tn}')\n",
    "print(f'accuracy: {accuracy_score(y_test, y_pred)}')\n",
    "recal_recorrence_events = classification_report(y_test, y_pred, output_dict=True)[\"recurrence-events\"][\"recall\"]\n",
    "print(f'recall[recurrence-events]: {recal_recorrence_events}')"
   ]
  }
 ],
 "metadata": {
  "kernelspec": {
   "display_name": "Python 3",
   "language": "python",
   "name": "python3"
  },
  "language_info": {
   "codemirror_mode": {
    "name": "ipython",
    "version": 3
   },
   "file_extension": ".py",
   "mimetype": "text/x-python",
   "name": "python",
   "nbconvert_exporter": "python",
   "pygments_lexer": "ipython3",
   "version": "3.7.3"
  },
  "pycharm": {
   "stem_cell": {
    "cell_type": "raw",
    "metadata": {
     "collapsed": false
    },
    "source": []
   }
  }
 },
 "nbformat": 4,
 "nbformat_minor": 2
}
