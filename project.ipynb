{
 "cells": [
  {
   "cell_type": "markdown",
   "source": [
    "# Projekt Python\n",
    "Tomasz Ancukiewicz 127219, Mikołaj Leśny 127218\n",
    "\n",
    "18.11.2019\n",
    "\n",
    "## Init libs"
   ],
   "metadata": {
    "collapsed": false
   }
  },
  {
   "cell_type": "code",
   "execution_count": 57,
   "outputs": [],
   "source": [
    "import pandas as pd\n",
    "from scipy.io import arff\n",
    "from sklearn.metrics import classification_report, confusion_matrix, accuracy_score\n",
    "from sklearn.model_selection import train_test_split\n",
    "from sklearn.preprocessing import LabelEncoder\n",
    "from sklearn.tree import DecisionTreeClassifier\n",
    "import numpy as np"
   ],
   "metadata": {
    "collapsed": false,
    "pycharm": {
     "name": "#%%\n",
     "is_executing": false
    }
   }
  },
  {
   "cell_type": "markdown",
   "source": [
    "## Load data"
   ],
   "metadata": {
    "collapsed": false
   }
  },
  {
   "cell_type": "code",
   "execution_count": 58,
   "outputs": [],
   "source": [
    "SEED = 42\n",
    "\n",
    "# data, meta = arff.loadarff(\"data/breast-cancer.arff\")\n",
    "# df = pd.DataFrame(data)\n",
    "df = pd.read_csv(\"data/breast-cancer.data\", sep=',', \n",
    "                 names=['Class', 'age', 'menopause', 'tumor-size', \n",
    "                        'inv-nodes', 'node-caps', 'deg-malig', \n",
    "                        'breast', 'breast-quad', 'irradiat'])\n",
    "# df = df.astype('str')\n",
    "\n",
    "df[[\"age-begin\", \"age-end\"]] = df.pop('age').astype('str').str.split(\"-\", n=1, expand=True)\n",
    "df[[\"tumor-size-begin\", \"tumor-size-end\"]] = df.pop('tumor-size').astype('str').str.split(\"-\", n=1, expand=True)\n",
    "df[[\"inv-nodes-begin\", \"inv-nodes-end\"]] = df.pop('inv-nodes').astype('str').str.split(\"-\", n=1, expand=True)\n",
    "\n",
    "df[[\"age-begin\", \"age-end\", \"tumor-size-begin\", \n",
    "    \"tumor-size-end\", \"inv-nodes-begin\", \"inv-nodes-end\"]] = \\\n",
    "    df[[\"age-begin\", \"age-end\", \"tumor-size-begin\", \n",
    "        \"tumor-size-end\", \"inv-nodes-begin\", \"inv-nodes-end\"]].astype(int)\n",
    "\n",
    "y = df.pop('Class')\n",
    "X = df\n",
    "X = X.apply(lambda x: LabelEncoder().fit_transform(x))"
   ],
   "metadata": {
    "collapsed": false,
    "pycharm": {
     "name": "#%%\n",
     "is_executing": false
    }
   }
  },
  {
   "cell_type": "markdown",
   "source": [
    "## Prepared data"
   ],
   "metadata": {
    "collapsed": false
   }
  },
  {
   "cell_type": "code",
   "execution_count": 59,
   "outputs": [
    {
     "data": {
      "text/plain": "  menopause node-caps  deg-malig breast breast-quad irradiat  age-begin  \\\n0   premeno        no          3   left    left_low       no         30   \n1   premeno        no          2  right    right_up       no         40   \n2   premeno        no          2   left    left_low       no         40   \n3      ge40        no          2  right     left_up       no         60   \n4   premeno        no          2  right   right_low       no         40   \n\n   age-end  tumor-size-begin  tumor-size-end  inv-nodes-begin  inv-nodes-end  \n0       39                30              34                0              2  \n1       49                20              24                0              2  \n2       49                20              24                0              2  \n3       69                15              19                0              2  \n4       49                 0               4                0              2  ",
      "text/html": "<div>\n<style scoped>\n    .dataframe tbody tr th:only-of-type {\n        vertical-align: middle;\n    }\n\n    .dataframe tbody tr th {\n        vertical-align: top;\n    }\n\n    .dataframe thead th {\n        text-align: right;\n    }\n</style>\n<table border=\"1\" class=\"dataframe\">\n  <thead>\n    <tr style=\"text-align: right;\">\n      <th></th>\n      <th>menopause</th>\n      <th>node-caps</th>\n      <th>deg-malig</th>\n      <th>breast</th>\n      <th>breast-quad</th>\n      <th>irradiat</th>\n      <th>age-begin</th>\n      <th>age-end</th>\n      <th>tumor-size-begin</th>\n      <th>tumor-size-end</th>\n      <th>inv-nodes-begin</th>\n      <th>inv-nodes-end</th>\n    </tr>\n  </thead>\n  <tbody>\n    <tr>\n      <th>0</th>\n      <td>premeno</td>\n      <td>no</td>\n      <td>3</td>\n      <td>left</td>\n      <td>left_low</td>\n      <td>no</td>\n      <td>30</td>\n      <td>39</td>\n      <td>30</td>\n      <td>34</td>\n      <td>0</td>\n      <td>2</td>\n    </tr>\n    <tr>\n      <th>1</th>\n      <td>premeno</td>\n      <td>no</td>\n      <td>2</td>\n      <td>right</td>\n      <td>right_up</td>\n      <td>no</td>\n      <td>40</td>\n      <td>49</td>\n      <td>20</td>\n      <td>24</td>\n      <td>0</td>\n      <td>2</td>\n    </tr>\n    <tr>\n      <th>2</th>\n      <td>premeno</td>\n      <td>no</td>\n      <td>2</td>\n      <td>left</td>\n      <td>left_low</td>\n      <td>no</td>\n      <td>40</td>\n      <td>49</td>\n      <td>20</td>\n      <td>24</td>\n      <td>0</td>\n      <td>2</td>\n    </tr>\n    <tr>\n      <th>3</th>\n      <td>ge40</td>\n      <td>no</td>\n      <td>2</td>\n      <td>right</td>\n      <td>left_up</td>\n      <td>no</td>\n      <td>60</td>\n      <td>69</td>\n      <td>15</td>\n      <td>19</td>\n      <td>0</td>\n      <td>2</td>\n    </tr>\n    <tr>\n      <th>4</th>\n      <td>premeno</td>\n      <td>no</td>\n      <td>2</td>\n      <td>right</td>\n      <td>right_low</td>\n      <td>no</td>\n      <td>40</td>\n      <td>49</td>\n      <td>0</td>\n      <td>4</td>\n      <td>0</td>\n      <td>2</td>\n    </tr>\n  </tbody>\n</table>\n</div>"
     },
     "metadata": {},
     "output_type": "execute_result",
     "execution_count": 59
    }
   ],
   "source": [
    "df.head()"
   ],
   "metadata": {
    "collapsed": false,
    "pycharm": {
     "name": "#%%\n",
     "is_executing": false
    }
   }
  },
  {
   "cell_type": "markdown",
   "source": [
    "## Make test and train sets"
   ],
   "metadata": {
    "collapsed": false
   }
  },
  {
   "cell_type": "code",
   "execution_count": 60,
   "outputs": [],
   "source": [
    "X_train, X_test, y_train, y_test = train_test_split(X, y, test_size=0.3, random_state=SEED)"
   ],
   "metadata": {
    "collapsed": false,
    "pycharm": {
     "name": "#%%\n",
     "is_executing": false
    }
   }
  },
  {
   "cell_type": "markdown",
   "source": [
    "## Classification"
   ],
   "metadata": {
    "collapsed": false
   }
  },
  {
   "cell_type": "code",
   "execution_count": 61,
   "outputs": [
    {
     "name": "stdout",
     "text": [
      "confusion matrix\n",
      "(18, 29)\n",
      "(9, 30)\n",
      "accuracy: 0.5581395348837209\n",
      "recal[recurrence-events]: 0.6666666666666666\n"
     ],
     "output_type": "stream"
    }
   ],
   "source": [
    "model = DecisionTreeClassifier(\n",
    "    criterion='entropy',\n",
    "    max_depth=7,\n",
    "    min_samples_leaf=7,\n",
    "    random_state=SEED,\n",
    "    class_weight={\"no-recurrence-events\": 1.0, \"recurrence-events\": 5.0}\n",
    ")\n",
    "\n",
    "model.fit(X_train, y_train)\n",
    "y_pred = model.predict(X_test)\n",
    "\n",
    "tn, fp, fn, tp = confusion_matrix(y_test, y_pred).ravel()\n",
    "print(f'confusion matrix\\n{tp, fp}\\n{fn, tn}')\n",
    "print(f'accuracy: {accuracy_score(y_test, y_pred)}')\n",
    "recal_recorrence_events = classification_report(y_test, y_pred, output_dict=True)[\"recurrence-events\"][\"recall\"]\n",
    "print(f'recal[recurrence-events]: {recal_recorrence_events}')"
   ],
   "metadata": {
    "collapsed": false,
    "pycharm": {
     "name": "#%%\n",
     "is_executing": false
    }
   }
  }
 ],
 "metadata": {
  "kernelspec": {
   "name": "python3",
   "language": "python",
   "display_name": "Python 3"
  },
  "language_info": {
   "codemirror_mode": {
    "name": "ipython",
    "version": 2
   },
   "file_extension": ".py",
   "mimetype": "text/x-python",
   "name": "python",
   "nbconvert_exporter": "python",
   "pygments_lexer": "ipython2",
   "version": "2.7.14"
  },
  "pycharm": {
   "stem_cell": {
    "cell_type": "raw",
    "source": [],
    "metadata": {
     "collapsed": false
    }
   }
  }
 },
 "nbformat": 4,
 "nbformat_minor": 2
}